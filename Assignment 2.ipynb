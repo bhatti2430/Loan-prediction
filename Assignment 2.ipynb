{
 "cells": [
  {
   "cell_type": "code",
   "execution_count": 1,
   "id": "d4a1df78",
   "metadata": {},
   "outputs": [],
   "source": [
    "import pandas as pd\n",
    "import numpy as np\n",
    "from sklearn.model_selection import train_test_split\n",
    "from sklearn.preprocessing import LabelEncoder, StandardScaler\n",
    "from sklearn.linear_model import LogisticRegression\n",
    "from sklearn.metrics import accuracy_score, confusion_matrix, classification_report\n",
    "import pickle"
   ]
  },
  {
   "cell_type": "code",
   "execution_count": null,
   "id": "001902d8",
   "metadata": {},
   "outputs": [
    {
     "name": "stdout",
     "output_type": "stream",
     "text": [
      "\n",
      "Starting Data Preprocessing...\n",
      "Data Preprocessing Completed!\n",
      "\n",
      "Splitting Data into Train and Test Sets...\n",
      "Data Split Completed!\n",
      "Training Samples: 491, Testing Samples: 123\n"
     ]
    },
    {
     "name": "stderr",
     "output_type": "stream",
     "text": [
      "C:\\Users\\Rajpoot Bhatti\\AppData\\Local\\Temp\\ipykernel_12144\\3247912021.py:21: FutureWarning: A value is trying to be set on a copy of a DataFrame or Series through chained assignment using an inplace method.\n",
      "The behavior will change in pandas 3.0. This inplace method will never work because the intermediate object on which we are setting values always behaves as a copy.\n",
      "\n",
      "For example, when doing 'df[col].method(value, inplace=True)', try using 'df.method({col: value}, inplace=True)' or df[col] = df[col].method(value) instead, to perform the operation inplace on the original object.\n",
      "\n",
      "\n",
      "  self.data[col].fillna(self.data[col].mean(), inplace=True)\n",
      "C:\\Users\\Rajpoot Bhatti\\AppData\\Local\\Temp\\ipykernel_12144\\3247912021.py:26: FutureWarning: A value is trying to be set on a copy of a DataFrame or Series through chained assignment using an inplace method.\n",
      "The behavior will change in pandas 3.0. This inplace method will never work because the intermediate object on which we are setting values always behaves as a copy.\n",
      "\n",
      "For example, when doing 'df[col].method(value, inplace=True)', try using 'df.method({col: value}, inplace=True)' or df[col] = df[col].method(value) instead, to perform the operation inplace on the original object.\n",
      "\n",
      "\n",
      "  self.data[col].fillna(self.data[col].mode()[0], inplace=True)\n"
     ]
    }
   ],
   "source": [
    "class DataSplitter:\n",
    "    def __init__(self, data, target_column):\n",
    "        self.data = data\n",
    "        self.target_column = target_column\n",
    "        self.X_train = None\n",
    "        self.X_test = None\n",
    "        self.y_train = None\n",
    "        self.y_test = None\n",
    "\n",
    "    def preprocess_data(self):\n",
    "        \"\"\"Data Cleaning and Encoding\"\"\"\n",
    "        print(\"\\nStarting Data Preprocessing...\")\n",
    "\n",
    "        # Remove unnecessary columns\n",
    "        if 'Loan_ID' in self.data.columns:\n",
    "            self.data.drop(columns=['Loan_ID'], inplace=True)\n",
    "\n",
    "        # Fill missing numerical values with mean\n",
    "        num_cols = self.data.select_dtypes(include=np.number).columns\n",
    "        for col in num_cols:\n",
    "            self.data[col].fillna(self.data[col].mean(), inplace=True)\n",
    "\n",
    "        # Fill missing categorical values with mode\n",
    "        cat_cols = self.data.select_dtypes(include='object').columns\n",
    "        for col in cat_cols:\n",
    "            self.data[col].fillna(self.data[col].mode()[0], inplace=True)\n",
    "\n",
    "        # Encode categorical columns\n",
    "        label_enc = LabelEncoder()\n",
    "        for col in cat_cols:\n",
    "            self.data[col] = label_enc.fit_transform(self.data[col])\n",
    "\n",
    "        print(\"Data Preprocessing Completed!\")\n",
    "        return self.data\n",
    "\n",
    "    def split_data(self, test_size=0.2, random_state=42):\n",
    "        print(\"\\nSplitting Data into Train and Test Sets...\")\n",
    "        X = self.data.drop(columns=[self.target_column])\n",
    "        y = self.data[self.target_column]\n",
    "\n",
    "        # Standardize features\n",
    "        scaler = StandardScaler()\n",
    "        X_scaled = scaler.fit_transform(X)\n",
    "\n",
    "        self.X_train, self.X_test, self.y_train, self.y_test = train_test_split(\n",
    "            X_scaled, y, test_size=test_size, random_state=random_state\n",
    "        )\n",
    "        print(\"Data Split Completed!\")\n",
    "        print(f\"Training Samples: {self.X_train.shape[0]}, Testing Samples: {self.X_test.shape[0]}\")\n",
    "        return self.X_train, self.X_test, self.y_train, self.y_test\n",
    "data = pd.read_csv(\"Loan.csv\")\n",
    "\n",
    "    \n",
    "splitter = DataSplitter(data, target_column=\"Loan_Status\")\n",
    "data = splitter.preprocess_data()\n",
    "X_train, X_test, y_train, y_test = splitter.split_data()"
   ]
  },
  {
   "cell_type": "code",
   "execution_count": 10,
   "id": "8d87b8f6",
   "metadata": {},
   "outputs": [
    {
     "name": "stdout",
     "output_type": "stream",
     "text": [
      "\n",
      "Training Model: Logistic Regression ...\n",
      "Model Training Completed Successfully!\n"
     ]
    }
   ],
   "source": [
    "class ModelTrainer:\n",
    "    def __init__(self, model_name=\"Logistic Regression\"):\n",
    "        self.model_name = model_name\n",
    "        self.model = None\n",
    "\n",
    "    def train_model(self, X_train, y_train):\n",
    "        print(f\"\\nTraining Model: {self.model_name} ...\")\n",
    "        self.model = LogisticRegression(max_iter=500)\n",
    "        self.model.fit(X_train, y_train)\n",
    "        print(\"Model Training Completed Successfully!\")\n",
    "        return self.model\n",
    "    \n",
    "trainer = ModelTrainer()\n",
    "model = trainer.train_model(X_train, y_train)\n"
   ]
  },
  {
   "cell_type": "code",
   "execution_count": 15,
   "id": "8910a12d",
   "metadata": {},
   "outputs": [
    {
     "name": "stdout",
     "output_type": "stream",
     "text": [
      "\n",
      "Evaluating Model Performance...\n",
      "Model Accuracy: 0.7886\n",
      "\n",
      "Confusion Matrix:\n",
      " [[18 25]\n",
      " [ 1 79]]\n",
      "\n",
      "Classification Report:\n",
      "               precision    recall  f1-score   support\n",
      "\n",
      "           0       0.95      0.42      0.58        43\n",
      "           1       0.76      0.99      0.86        80\n",
      "\n",
      "    accuracy                           0.79       123\n",
      "   macro avg       0.85      0.70      0.72       123\n",
      "weighted avg       0.83      0.79      0.76       123\n",
      "\n"
     ]
    },
    {
     "data": {
      "text/plain": [
       "(0.7886178861788617,\n",
       " array([[18, 25],\n",
       "        [ 1, 79]]),\n",
       " '              precision    recall  f1-score   support\\n\\n           0       0.95      0.42      0.58        43\\n           1       0.76      0.99      0.86        80\\n\\n    accuracy                           0.79       123\\n   macro avg       0.85      0.70      0.72       123\\nweighted avg       0.83      0.79      0.76       123\\n')"
      ]
     },
     "execution_count": 15,
     "metadata": {},
     "output_type": "execute_result"
    }
   ],
   "source": [
    "class ModelEvaluator:\n",
    "    def __init__(self, model, X_test, y_test):\n",
    "        self.model = model\n",
    "        self.X_test = X_test\n",
    "        self.y_test = y_test\n",
    "\n",
    "    def evaluate(self):\n",
    "        print(\"\\nEvaluating Model Performance...\")\n",
    "        y_pred = self.model.predict(self.X_test)\n",
    "\n",
    "        acc = accuracy_score(self.y_test, y_pred)\n",
    "        cm = confusion_matrix(self.y_test, y_pred)\n",
    "        cr = classification_report(self.y_test, y_pred)\n",
    "\n",
    "        print(f\"Model Accuracy: {acc:.4f}\")\n",
    "        print(\"\\nConfusion Matrix:\\n\", cm)\n",
    "        print(\"\\nClassification Report:\\n\", cr)\n",
    "        return acc, cm, cr\n",
    "\n",
    "evaluator = ModelEvaluator(model, X_test, y_test)\n",
    "evaluator.evaluate()"
   ]
  },
  {
   "cell_type": "code",
   "execution_count": 13,
   "id": "6eea7cd0",
   "metadata": {},
   "outputs": [
    {
     "name": "stdout",
     "output_type": "stream",
     "text": [
      "Model saved successfully as 'loan_model.pkl'\n",
      "Model loaded successfully from 'loan_model.pkl'\n"
     ]
    }
   ],
   "source": [
    "class ModelSaver:\n",
    "    def __init__(self, model, filename=\"loan_model.pkl\"):\n",
    "        self.model = model\n",
    "        self.filename = filename\n",
    "\n",
    "    def save_model(self):\n",
    "        with open(self.filename, 'wb') as file:\n",
    "            pickle.dump(self.model, file)\n",
    "        print(f\"Model saved successfully as '{self.filename}'\")\n",
    "\n",
    "    def load_model(self):\n",
    "        with open(self.filename, 'rb') as file:\n",
    "            loaded_model = pickle.load(file)\n",
    "        print(f\"Model loaded successfully from '{self.filename}'\")\n",
    "        return loaded_model\n",
    "    \n",
    "saver = ModelSaver(model)\n",
    "saver.save_model()\n",
    "loaded_model = saver.load_model()"
   ]
  }
 ],
 "metadata": {
  "kernelspec": {
   "display_name": "base",
   "language": "python",
   "name": "python3"
  },
  "language_info": {
   "codemirror_mode": {
    "name": "ipython",
    "version": 3
   },
   "file_extension": ".py",
   "mimetype": "text/x-python",
   "name": "python",
   "nbconvert_exporter": "python",
   "pygments_lexer": "ipython3",
   "version": "3.13.5"
  }
 },
 "nbformat": 4,
 "nbformat_minor": 5
}
